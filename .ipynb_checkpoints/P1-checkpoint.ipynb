{
 "cells": [
  {
   "cell_type": "code",
   "execution_count": 50,
   "id": "9bf39dc6",
   "metadata": {},
   "outputs": [
    {
     "ename": "OperationalError",
     "evalue": "table player already exists",
     "output_type": "error",
     "traceback": [
      "\u001b[0;31m---------------------------------------------------------------------------\u001b[0m",
      "\u001b[0;31mOperationalError\u001b[0m                          Traceback (most recent call last)",
      "\u001b[0;32m/var/folders/r6/7ckwh6lx77d_z3w19r_qvlhm0000gn/T/ipykernel_95506/1898591936.py\u001b[0m in \u001b[0;36m<module>\u001b[0;34m\u001b[0m\n\u001b[1;32m     17\u001b[0m            )\"\"\")\n\u001b[1;32m     18\u001b[0m \u001b[0;34m\u001b[0m\u001b[0m\n\u001b[0;32m---> 19\u001b[0;31m \u001b[0mtable_create\u001b[0m\u001b[0;34m(\u001b[0m\u001b[0;34m)\u001b[0m\u001b[0;34m\u001b[0m\u001b[0;34m\u001b[0m\u001b[0m\n\u001b[0m\u001b[1;32m     20\u001b[0m \u001b[0;34m\u001b[0m\u001b[0m\n\u001b[1;32m     21\u001b[0m \u001b[0mconn\u001b[0m\u001b[0;34m.\u001b[0m\u001b[0mcommit\u001b[0m\u001b[0;34m(\u001b[0m\u001b[0;34m)\u001b[0m\u001b[0;34m\u001b[0m\u001b[0;34m\u001b[0m\u001b[0m\n",
      "\u001b[0;32m/var/folders/r6/7ckwh6lx77d_z3w19r_qvlhm0000gn/T/ipykernel_95506/1898591936.py\u001b[0m in \u001b[0;36mtable_create\u001b[0;34m()\u001b[0m\n\u001b[1;32m      4\u001b[0m \u001b[0;34m\u001b[0m\u001b[0m\n\u001b[1;32m      5\u001b[0m \u001b[0;32mdef\u001b[0m \u001b[0mtable_create\u001b[0m\u001b[0;34m(\u001b[0m\u001b[0;34m)\u001b[0m\u001b[0;34m:\u001b[0m\u001b[0;34m\u001b[0m\u001b[0;34m\u001b[0m\u001b[0m\n\u001b[0;32m----> 6\u001b[0;31m     cur.execute(\"\"\"create table player (\n\u001b[0m\u001b[1;32m      7\u001b[0m         \u001b[0mid_number\u001b[0m \u001b[0minteger\u001b[0m\u001b[0;34m,\u001b[0m\u001b[0;34m\u001b[0m\u001b[0;34m\u001b[0m\u001b[0m\n\u001b[1;32m      8\u001b[0m         \u001b[0mname\u001b[0m \u001b[0mvarchar\u001b[0m\u001b[0;34m(\u001b[0m\u001b[0;36m61\u001b[0m\u001b[0;34m)\u001b[0m\u001b[0;34m,\u001b[0m\u001b[0;34m\u001b[0m\u001b[0;34m\u001b[0m\u001b[0m\n",
      "\u001b[0;31mOperationalError\u001b[0m: table player already exists"
     ]
    }
   ],
   "source": [
    "import sqlite3\n",
    "conn = sqlite3.connect(\"rating.db\")\n",
    "c = conn.cursor()\n",
    "\n",
    "def table_create():\n",
    "    cur.execute(\"\"\"create table player (\n",
    "        id_number integer, \n",
    "        name varchar(61), \n",
    "        fed char(3), \n",
    "        sex char(1), \n",
    "        title varchar(5), \n",
    "        women_title varchar(5),\n",
    "        standard_rating integer,\n",
    "        rapid_rating integer,\n",
    "        blitz_rating integer,\n",
    "        born_year integer\n",
    "           )\"\"\")\n",
    "\n",
    "table_create()\n",
    "\n",
    "conn.commit()\n",
    "\n",
    "# conn.close()"
   ]
  },
  {
   "cell_type": "code",
   "execution_count": 51,
   "id": "562c93ac",
   "metadata": {},
   "outputs": [],
   "source": [
    "c.execute(\"select * from player\")\n",
    "tables = c.fetchall()\n",
    "for player in tables:\n",
    "    print(player)\n"
   ]
  },
  {
   "cell_type": "code",
   "execution_count": 85,
   "id": "1baa5c27",
   "metadata": {},
   "outputs": [
    {
     "name": "stdout",
     "output_type": "stream",
     "text": [
      "end open\n"
     ]
    }
   ],
   "source": [
    "def read_table():\n",
    "    result = c.execute(\"select * from player\").fetchall()\n",
    "    for player in result:\n",
    "        print(player)\n",
    "\n",
    "def delete_rows():\n",
    "    c.execute(\"delete from player\")\n",
    "    print('end delete')\n",
    "        \n",
    "def open_file():\n",
    "    data = open(\"ratings.txt\", \"rt\").readlines() # rt - read, text\n",
    "\n",
    "    for line in data[1:]:\n",
    "        id_number = int(line[:15])\n",
    "        name = line[15:76].strip()\n",
    "        fed = line[76:80]\n",
    "        sex = line[80]\n",
    "        title = line[86:91].strip()\n",
    "        women_title = line[91:96].strip()\n",
    "        standard_rating = int('0' + line[113:117].strip())\n",
    "        rapid_rating = int('0' + line[126:132].strip())\n",
    "        blitz_rating = int('0' + line[139:143].strip())\n",
    "        born_year = int('0' + line[152:156].strip())\n",
    "        \n",
    "        sql_string = f'Insert Into player (id_number, name, fed, sex, title, women_title, standard_rating, rapid_rating, blitz_rating, born_year) values ({id_number}, \"{name}\", \"{fed}\", \"{sex}\", \"{title}\", \"{women_title}\", {standard_rating}, {rapid_rating}, {blitz_rating}, {born_year});'\n",
    "        # print(sql_string)\n",
    "        c.execute(sql_string)\n",
    "    \n",
    "    conn.commit()\n",
    "    print('end open')\n",
    "\n",
    "\n",
    "        # print(id_number, name, fed, sex, title, women_title, standard_rating, rapid_rating, blitz_rating, born_year)\n",
    "\n",
    "# delete_rows()      \n",
    "open_file()\n",
    "# read_table()\n",
    "\n"
   ]
  },
  {
   "cell_type": "code",
   "execution_count": 88,
   "id": "c74217a4",
   "metadata": {},
   "outputs": [
    {
     "data": {
      "text/plain": [
       "(1179984,)"
      ]
     },
     "execution_count": 88,
     "metadata": {},
     "output_type": "execute_result"
    }
   ],
   "source": [
    "c.execute('Select count(*) from player').fetchone()"
   ]
  }
 ],
 "metadata": {
  "kernelspec": {
   "display_name": "Python 3 (ipykernel)",
   "language": "python",
   "name": "python3"
  },
  "language_info": {
   "codemirror_mode": {
    "name": "ipython",
    "version": 3
   },
   "file_extension": ".py",
   "mimetype": "text/x-python",
   "name": "python",
   "nbconvert_exporter": "python",
   "pygments_lexer": "ipython3",
   "version": "3.8.13"
  }
 },
 "nbformat": 4,
 "nbformat_minor": 5
}
