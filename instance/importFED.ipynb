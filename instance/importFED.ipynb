{
 "cells": [
  {
   "cell_type": "code",
   "execution_count": 15,
   "id": "69775821",
   "metadata": {},
   "outputs": [],
   "source": [
    "import sqlite3\n",
    "conn = sqlite3.connect(\"/Users/polaparol/Documents/DS/Python/Flask-chess-webapp-main/instance/chessdb.db\")\n",
    "c = conn.cursor()\n",
    "\n",
    "def table_create():\n",
    "    c.execute(\"CREATE TABLE federation (code char(3), name varchar(255))\")\n",
    "\n",
    "# table_create()\n",
    "\n",
    "conn.commit()\n",
    "\n",
    "# conn.close()"
   ]
  },
  {
   "cell_type": "code",
   "execution_count": 16,
   "id": "c9e7ff22",
   "metadata": {},
   "outputs": [
    {
     "name": "stdout",
     "output_type": "stream",
     "text": [
      "end delete\n",
      "end open\n"
     ]
    }
   ],
   "source": [
    "\n",
    "\n",
    "def delete_rows():\n",
    "    c.execute(\"delete from country\")\n",
    "    print('end delete')\n",
    "        \n",
    "def open_file():\n",
    "    data = open(\"Countries_Code.csv\", \"rt\").readlines() # rt - read, text\n",
    "\n",
    "    for line in data:\n",
    "        data = line.split(';')\n",
    "        fed = data[0]\n",
    "        name = data[1].replace(\"'\", \"''\")\n",
    "        sql_string = f\"Insert Into country (code, name) values ('{fed}','{name}')\" \n",
    "        c.execute(sql_string)\n",
    "    \n",
    "    conn.commit()\n",
    "    print('end open')\n",
    "\n",
    "\n",
    "delete_rows()      \n",
    "open_file()\n",
    "# read_table()\n",
    "\n"
   ]
  },
  {
   "cell_type": "code",
   "execution_count": null,
   "id": "f02dfd6e",
   "metadata": {},
   "outputs": [],
   "source": []
  },
  {
   "cell_type": "code",
   "execution_count": null,
   "id": "4e60e800",
   "metadata": {},
   "outputs": [],
   "source": []
  }
 ],
 "metadata": {
  "kernelspec": {
   "display_name": "Python 3",
   "language": "python",
   "name": "python3"
  },
  "language_info": {
   "codemirror_mode": {
    "name": "ipython",
    "version": 3
   },
   "file_extension": ".py",
   "mimetype": "text/x-python",
   "name": "python",
   "nbconvert_exporter": "python",
   "pygments_lexer": "ipython3",
   "version": "3.10.2"
  },
  "vscode": {
   "interpreter": {
    "hash": "aee8b7b246df8f9039afb4144a1f6fd8d2ca17a180786b69acc140d282b71a49"
   }
  }
 },
 "nbformat": 4,
 "nbformat_minor": 5
}
