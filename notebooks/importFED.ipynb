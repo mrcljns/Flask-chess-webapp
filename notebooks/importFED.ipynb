{
 "cells": [
  {
   "cell_type": "code",
   "execution_count": null,
   "id": "69775821",
   "metadata": {},
   "outputs": [],
   "source": [
    "import sqlite3\n",
    "conn = sqlite3.connect(\"instance/chessgames.db\")\n",
    "c = conn.cursor()\n",
    "\n",
    "def table_create():\n",
    "    c.execute(\"CREATE TABLE federation (code char(3), name varchar(255))\")\n",
    "\n",
    "# table_create()\n",
    "\n",
    "conn.commit()\n",
    "\n",
    "# conn.close()"
   ]
  },
  {
   "cell_type": "code",
   "execution_count": null,
   "id": "c9e7ff22",
   "metadata": {},
   "outputs": [],
   "source": [
    "def delete_rows():\n",
    "    c.execute(\"delete from country\")\n",
    "    print('end delete')\n",
    "        \n",
    "def open_file():\n",
    "    data = open(\"Countries_Code.csv\", \"rt\").readlines() # rt - read, text\n",
    "\n",
    "    for line in data:\n",
    "        data = line.split(';')\n",
    "        fed = data[0]\n",
    "        name = data[1].replace(\"'\", \"''\")\n",
    "        sql_string = f\"Insert Into country (code, name) values ('{fed}','{name}')\" \n",
    "        c.execute(sql_string)\n",
    "    \n",
    "    conn.commit()\n",
    "    print('end open')\n",
    "\n",
    "\n",
    "delete_rows()      \n",
    "open_file()\n",
    "# read_table()"
   ]
  }
 ],
 "metadata": {
  "kernelspec": {
   "display_name": "chess",
   "language": "python",
   "name": "python3"
  },
  "language_info": {
   "codemirror_mode": {
    "name": "ipython",
    "version": 3
   },
   "file_extension": ".py",
   "mimetype": "text/x-python",
   "name": "python",
   "nbconvert_exporter": "python",
   "pygments_lexer": "ipython3",
   "version": "3.8.13"
  },
  "vscode": {
   "interpreter": {
    "hash": "e22f3cd4f47b9f2d986bebc8660c929fc3fec1ecde06d5e3a5c9dbb422723ce2"
   }
  }
 },
 "nbformat": 4,
 "nbformat_minor": 5
}
