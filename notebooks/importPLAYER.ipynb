{
 "cells": [
  {
   "cell_type": "code",
   "execution_count": null,
   "id": "69775821",
   "metadata": {},
   "outputs": [],
   "source": [
    "import sqlite3\n",
    "conn = sqlite3.connect(\"rating.db\")\n",
    "c = conn.cursor()\n",
    "\n",
    "def table_create():\n",
    "    c.execute(\"\"\"create table player (\n",
    "        id_number integer, \n",
    "        name varchar(61), \n",
    "        fed char(3), \n",
    "        sex char(1), \n",
    "        title varchar(5), \n",
    "        women_title varchar(5),\n",
    "        standard_rating integer,\n",
    "        rapid_rating integer,\n",
    "        blitz_rating integer,\n",
    "        born_year integer\n",
    "           )\"\"\")\n",
    "\n",
    "table_create()\n",
    "\n",
    "conn.commit()"
   ]
  },
  {
   "cell_type": "code",
   "execution_count": null,
   "id": "b9b8cf0c",
   "metadata": {},
   "outputs": [],
   "source": [
    "c.execute(\"select * from player\")\n",
    "tables = c.fetchall()\n",
    "for player in tables:\n",
    "    print(player)\n"
   ]
  },
  {
   "cell_type": "code",
   "execution_count": null,
   "id": "c9e7ff22",
   "metadata": {},
   "outputs": [],
   "source": [
    "def read_table():\n",
    "    result = c.execute(\"select * from player\").fetchall()\n",
    "    for player in result:\n",
    "        print(player)\n",
    "\n",
    "def delete_rows():\n",
    "    c.execute(\"delete from player\")\n",
    "    print('end delete')\n",
    "        \n",
    "def open_file():\n",
    "    data = open(\"ratings.txt\", \"rt\").readlines() # rt - read, text\n",
    "\n",
    "    for line in data[1:]:\n",
    "        id_number = int(line[:15])\n",
    "        name = line[15:76].strip()\n",
    "        fed = line[76:80]\n",
    "        sex = line[80]\n",
    "        title = line[86:91].strip()\n",
    "        women_title = line[91:96].strip()\n",
    "        standard_rating = int('0' + line[113:117].strip())\n",
    "        rapid_rating = int('0' + line[126:132].strip())\n",
    "        blitz_rating = int('0' + line[139:143].strip())\n",
    "        born_year = int('0' + line[152:156].strip())\n",
    "        \n",
    "        sql_string = f'Insert Into player (id_number, name, fed, sex, title, women_title, standard_rating, rapid_rating, blitz_rating, born_year) values ({id_number}, \"{name}\", \"{fed}\", \"{sex}\", \"{title}\", \"{women_title}\", {standard_rating}, {rapid_rating}, {blitz_rating}, {born_year});'\n",
    "        # print(sql_string)\n",
    "        c.execute(sql_string)\n",
    "    \n",
    "    conn.commit()\n",
    "    print('end open')\n",
    "\n",
    "\n",
    "        # print(id_number, name, fed, sex, title, women_title, standard_rating, rapid_rating, blitz_rating, born_year)\n",
    "\n",
    "# delete_rows()      \n",
    "open_file()\n",
    "# read_table()\n",
    "\n"
   ]
  },
  {
   "cell_type": "code",
   "execution_count": null,
   "id": "66d5a803",
   "metadata": {},
   "outputs": [],
   "source": [
    "c.execute('Select count(*) from player').fetchone()"
   ]
  },
  {
   "cell_type": "code",
   "execution_count": null,
   "id": "c605da99",
   "metadata": {},
   "outputs": [],
   "source": [
    "conn.close()"
   ]
  }
 ],
 "metadata": {
  "kernelspec": {
   "display_name": "Python 3 (ipykernel)",
   "language": "python",
   "name": "python3"
  },
  "language_info": {
   "codemirror_mode": {
    "name": "ipython",
    "version": 3
   },
   "file_extension": ".py",
   "mimetype": "text/x-python",
   "name": "python",
   "nbconvert_exporter": "python",
   "pygments_lexer": "ipython3",
   "version": "3.9.7"
  }
 },
 "nbformat": 4,
 "nbformat_minor": 5
}
