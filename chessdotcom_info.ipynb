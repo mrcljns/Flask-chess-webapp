{
 "cells": [
  {
   "cell_type": "markdown",
   "metadata": {},
   "source": [
    "# Creating dataframes from chess.com"
   ]
  },
  {
   "cell_type": "code",
   "execution_count": 88,
   "metadata": {},
   "outputs": [],
   "source": [
    "from chessdotcom import get_titled_players, get_player_profile, get_player_stats, get_player_games_by_month\n",
    "import pandas as pd\n",
    "from tqdm import tqdm\n",
    "import datetime\n",
    "import chess.pgn\n",
    "from io import StringIO\n",
    "import random"
   ]
  },
  {
   "cell_type": "markdown",
   "metadata": {},
   "source": [
    "## Loading information about Grandmasters"
   ]
  },
  {
   "cell_type": "code",
   "execution_count": 2,
   "metadata": {},
   "outputs": [
    {
     "name": "stdout",
     "output_type": "stream",
     "text": [
      "['123lt', '124chess', '1977ivan', '1stsecond', '4thd-alpeacefulmoon', '64aramis64', '64arthos64', '64atilla64', '64dartagnan64', '64genghis64']\n"
     ]
    }
   ],
   "source": [
    "# Names of all chess.com accounts belonging to chess grandmasters\n",
    "gm_list = get_titled_players('GM')\n",
    "print(gm_list.players[:10])"
   ]
  },
  {
   "cell_type": "code",
   "execution_count": 4,
   "metadata": {},
   "outputs": [],
   "source": [
    "with open('gm_list.txt', 'w+') as f:\n",
    "    for gm in gm_list.players:\n",
    "        f.write(f\"{gm}\\n\")"
   ]
  },
  {
   "cell_type": "code",
   "execution_count": 5,
   "metadata": {},
   "outputs": [],
   "source": [
    "file = open('gm_list.txt', 'r')\n",
    "gm_list = file.read()\n",
    "gm_list = gm_list.split(\"\\n\")\n",
    "file.close()"
   ]
  },
  {
   "cell_type": "markdown",
   "metadata": {},
   "source": [
    "### Player profiles"
   ]
  },
  {
   "cell_type": "code",
   "execution_count": 6,
   "metadata": {},
   "outputs": [],
   "source": [
    "# Pulling GMs profiles from chess.com\n",
    "gm_profiles = []\n",
    "\n",
    "for player in gm_list.players:\n",
    "    gm_profiles.append(get_player_profile(player).json['player'])"
   ]
  },
  {
   "cell_type": "code",
   "execution_count": 7,
   "metadata": {},
   "outputs": [],
   "source": [
    "# Change into pandas dataframe\n",
    "profiles_df = pd.DataFrame(gm_profiles)"
   ]
  },
  {
   "cell_type": "code",
   "execution_count": 10,
   "metadata": {},
   "outputs": [],
   "source": [
    "# Save the dataframe into csv\n",
    "profiles_df.to_csv(\"GM_profiles.csv\")"
   ]
  },
  {
   "cell_type": "markdown",
   "metadata": {},
   "source": [
    "### Player stats"
   ]
  },
  {
   "cell_type": "code",
   "execution_count": 5,
   "metadata": {},
   "outputs": [
    {
     "name": "stderr",
     "output_type": "stream",
     "text": [
      "100%|██████████| 1466/1466 [1:09:10<00:00,  2.83s/it]\n"
     ]
    }
   ],
   "source": [
    "# Pulling GMs stats from chess.com\n",
    "gm_stats = []\n",
    "\n",
    "for player in tqdm(gm_list.players):\n",
    "    temp_stat = get_player_stats(player, tts=2).json['stats']\n",
    "    temp_stat['player'] = player\n",
    "    gm_stats.append(temp_stat)\n",
    "\n",
    "stats_df = pd.DataFrame(pd.json_normalize(gm_stats))\n",
    "stats_df.to_csv(\"GM_stats.csv\")"
   ]
  },
  {
   "cell_type": "code",
   "execution_count": 20,
   "metadata": {},
   "outputs": [],
   "source": [
    "caruana = get_player_stats('fabianocaruana').json['stats']"
   ]
  },
  {
   "cell_type": "code",
   "execution_count": 21,
   "metadata": {},
   "outputs": [
    {
     "data": {
      "text/html": [
       "<div>\n",
       "<style scoped>\n",
       "    .dataframe tbody tr th:only-of-type {\n",
       "        vertical-align: middle;\n",
       "    }\n",
       "\n",
       "    .dataframe tbody tr th {\n",
       "        vertical-align: top;\n",
       "    }\n",
       "\n",
       "    .dataframe thead th {\n",
       "        text-align: right;\n",
       "    }\n",
       "</style>\n",
       "<table border=\"1\" class=\"dataframe\">\n",
       "  <thead>\n",
       "    <tr style=\"text-align: right;\">\n",
       "      <th></th>\n",
       "      <th>fide</th>\n",
       "      <th>chess_rapid.last.rating</th>\n",
       "      <th>chess_rapid.last.date</th>\n",
       "      <th>chess_rapid.last.rd</th>\n",
       "      <th>chess_rapid.best.rating</th>\n",
       "      <th>chess_rapid.best.date</th>\n",
       "      <th>chess_rapid.best.game</th>\n",
       "      <th>chess_rapid.record.win</th>\n",
       "      <th>chess_rapid.record.loss</th>\n",
       "      <th>chess_rapid.record.draw</th>\n",
       "      <th>...</th>\n",
       "      <th>chess_blitz.best.game</th>\n",
       "      <th>chess_blitz.record.win</th>\n",
       "      <th>chess_blitz.record.loss</th>\n",
       "      <th>chess_blitz.record.draw</th>\n",
       "      <th>tactics.highest.rating</th>\n",
       "      <th>tactics.highest.date</th>\n",
       "      <th>tactics.lowest.rating</th>\n",
       "      <th>tactics.lowest.date</th>\n",
       "      <th>puzzle_rush.best.total_attempts</th>\n",
       "      <th>puzzle_rush.best.score</th>\n",
       "    </tr>\n",
       "  </thead>\n",
       "  <tbody>\n",
       "    <tr>\n",
       "      <th>0</th>\n",
       "      <td>2835</td>\n",
       "      <td>2702</td>\n",
       "      <td>1664820808</td>\n",
       "      <td>56</td>\n",
       "      <td>3045</td>\n",
       "      <td>1567282891</td>\n",
       "      <td>https://www.chess.com/game/live/39727720047</td>\n",
       "      <td>80</td>\n",
       "      <td>28</td>\n",
       "      <td>73</td>\n",
       "      <td>...</td>\n",
       "      <td>https://www.chess.com/game/live/39128394713</td>\n",
       "      <td>784</td>\n",
       "      <td>259</td>\n",
       "      <td>150</td>\n",
       "      <td>3459</td>\n",
       "      <td>1532884703</td>\n",
       "      <td>1354</td>\n",
       "      <td>1363907400</td>\n",
       "      <td>67</td>\n",
       "      <td>64</td>\n",
       "    </tr>\n",
       "  </tbody>\n",
       "</table>\n",
       "<p>1 rows × 34 columns</p>\n",
       "</div>"
      ],
      "text/plain": [
       "   fide  chess_rapid.last.rating  chess_rapid.last.date  chess_rapid.last.rd  \\\n",
       "0  2835                     2702             1664820808                   56   \n",
       "\n",
       "   chess_rapid.best.rating  chess_rapid.best.date  \\\n",
       "0                     3045             1567282891   \n",
       "\n",
       "                         chess_rapid.best.game  chess_rapid.record.win  \\\n",
       "0  https://www.chess.com/game/live/39727720047                      80   \n",
       "\n",
       "   chess_rapid.record.loss  chess_rapid.record.draw  ...  \\\n",
       "0                       28                       73  ...   \n",
       "\n",
       "                         chess_blitz.best.game  chess_blitz.record.win  \\\n",
       "0  https://www.chess.com/game/live/39128394713                     784   \n",
       "\n",
       "   chess_blitz.record.loss  chess_blitz.record.draw  tactics.highest.rating  \\\n",
       "0                      259                      150                    3459   \n",
       "\n",
       "  tactics.highest.date  tactics.lowest.rating  tactics.lowest.date  \\\n",
       "0           1532884703                   1354           1363907400   \n",
       "\n",
       "   puzzle_rush.best.total_attempts  puzzle_rush.best.score  \n",
       "0                               67                      64  \n",
       "\n",
       "[1 rows x 34 columns]"
      ]
     },
     "execution_count": 21,
     "metadata": {},
     "output_type": "execute_result"
    }
   ],
   "source": [
    "pd.json_normalize(caruana, sep=\"_\")"
   ]
  },
  {
   "cell_type": "markdown",
   "metadata": {},
   "source": [
    "### Latest player games"
   ]
  },
  {
   "cell_type": "code",
   "execution_count": 9,
   "metadata": {},
   "outputs": [],
   "source": [
    "current_time = datetime.datetime.now()"
   ]
  },
  {
   "cell_type": "code",
   "execution_count": 111,
   "metadata": {},
   "outputs": [
    {
     "name": "stderr",
     "output_type": "stream",
     "text": [
      "100%|█████████▉| 1466/1467 [45:43<00:01,  1.87s/it] \n"
     ]
    },
    {
     "ename": "ChessDotComError",
     "evalue": "<class 'chessdotcom.types.ChessDotComError'>(status_code=404, text={\"code\":0,\"message\":\"Data provider not found for key \\\"/pub/player//games/2022/11\\\".\"})",
     "output_type": "error",
     "traceback": [
      "\u001b[1;31m---------------------------------------------------------------------------\u001b[0m",
      "\u001b[1;31mChessDotComError\u001b[0m                          Traceback (most recent call last)",
      "\u001b[1;32m~\\AppData\\Local\\Temp\\ipykernel_2296\\1139715128.py\u001b[0m in \u001b[0;36m<module>\u001b[1;34m\u001b[0m\n\u001b[0;32m      3\u001b[0m \u001b[1;33m\u001b[0m\u001b[0m\n\u001b[0;32m      4\u001b[0m \u001b[1;32mfor\u001b[0m \u001b[0mplayer\u001b[0m \u001b[1;32min\u001b[0m \u001b[0mtqdm\u001b[0m\u001b[1;33m(\u001b[0m\u001b[0mgm_list\u001b[0m\u001b[1;33m)\u001b[0m\u001b[1;33m:\u001b[0m\u001b[1;33m\u001b[0m\u001b[1;33m\u001b[0m\u001b[0m\n\u001b[1;32m----> 5\u001b[1;33m     \u001b[0mgames\u001b[0m \u001b[1;33m=\u001b[0m \u001b[0mget_player_games_by_month\u001b[0m\u001b[1;33m(\u001b[0m\u001b[0mplayer\u001b[0m\u001b[1;33m,\u001b[0m \u001b[0myear\u001b[0m\u001b[1;33m=\u001b[0m\u001b[0mcurrent_time\u001b[0m\u001b[1;33m.\u001b[0m\u001b[0myear\u001b[0m\u001b[1;33m,\u001b[0m \u001b[0mmonth\u001b[0m\u001b[1;33m=\u001b[0m\u001b[0mcurrent_time\u001b[0m\u001b[1;33m.\u001b[0m\u001b[0mmonth\u001b[0m\u001b[1;33m-\u001b[0m\u001b[1;36m1\u001b[0m\u001b[1;33m,\u001b[0m \u001b[0mtts\u001b[0m\u001b[1;33m=\u001b[0m\u001b[0mrandom\u001b[0m\u001b[1;33m.\u001b[0m\u001b[0mrandint\u001b[0m\u001b[1;33m(\u001b[0m\u001b[1;36m0\u001b[0m\u001b[1;33m,\u001b[0m\u001b[1;36m2\u001b[0m\u001b[1;33m)\u001b[0m\u001b[1;33m)\u001b[0m\u001b[1;33m\u001b[0m\u001b[1;33m\u001b[0m\u001b[0m\n\u001b[0m\u001b[0;32m      6\u001b[0m     \u001b[1;32mfor\u001b[0m \u001b[0mgame\u001b[0m \u001b[1;32min\u001b[0m \u001b[0mgames\u001b[0m\u001b[1;33m.\u001b[0m\u001b[0mjson\u001b[0m\u001b[1;33m[\u001b[0m\u001b[1;34m'games'\u001b[0m\u001b[1;33m]\u001b[0m\u001b[1;33m:\u001b[0m\u001b[1;33m\u001b[0m\u001b[1;33m\u001b[0m\u001b[0m\n\u001b[0;32m      7\u001b[0m         \u001b[1;32mtry\u001b[0m\u001b[1;33m:\u001b[0m\u001b[1;33m\u001b[0m\u001b[1;33m\u001b[0m\u001b[0m\n",
      "\u001b[1;32mc:\\Users\\macie\\anaconda3\\envs\\chess\\lib\\site-packages\\chessdotcom\\client.py\u001b[0m in \u001b[0;36mwrapper\u001b[1;34m(*args, **kwargs)\u001b[0m\n\u001b[0;32m    116\u001b[0m         \u001b[1;33m@\u001b[0m\u001b[0mwraps\u001b[0m\u001b[1;33m(\u001b[0m\u001b[0mfunc\u001b[0m\u001b[1;33m)\u001b[0m\u001b[1;33m\u001b[0m\u001b[1;33m\u001b[0m\u001b[0m\n\u001b[0;32m    117\u001b[0m         \u001b[1;32mdef\u001b[0m \u001b[0mwrapper\u001b[0m\u001b[1;33m(\u001b[0m\u001b[1;33m*\u001b[0m\u001b[0margs\u001b[0m\u001b[1;33m,\u001b[0m \u001b[1;33m**\u001b[0m\u001b[0mkwargs\u001b[0m\u001b[1;33m)\u001b[0m\u001b[1;33m:\u001b[0m\u001b[1;33m\u001b[0m\u001b[1;33m\u001b[0m\u001b[0m\n\u001b[1;32m--> 118\u001b[1;33m             \u001b[1;32mreturn\u001b[0m \u001b[0mcls\u001b[0m\u001b[1;33m.\u001b[0m\u001b[0mdo_get_request\u001b[0m\u001b[1;33m(\u001b[0m\u001b[0mfunc\u001b[0m\u001b[1;33m(\u001b[0m\u001b[1;33m*\u001b[0m\u001b[0margs\u001b[0m\u001b[1;33m,\u001b[0m \u001b[1;33m**\u001b[0m\u001b[0mkwargs\u001b[0m\u001b[1;33m)\u001b[0m\u001b[1;33m)\u001b[0m\u001b[1;33m\u001b[0m\u001b[1;33m\u001b[0m\u001b[0m\n\u001b[0m\u001b[0;32m    119\u001b[0m \u001b[1;33m\u001b[0m\u001b[0m\n\u001b[0;32m    120\u001b[0m         \u001b[1;32mreturn\u001b[0m \u001b[0mwrapper\u001b[0m\u001b[1;33m\u001b[0m\u001b[1;33m\u001b[0m\u001b[0m\n",
      "\u001b[1;32mc:\\Users\\macie\\anaconda3\\envs\\chess\\lib\\site-packages\\chessdotcom\\client.py\u001b[0m in \u001b[0;36mdo_get_request\u001b[1;34m(cls, resource)\u001b[0m\n\u001b[0;32m    110\u001b[0m         )\n\u001b[0;32m    111\u001b[0m \u001b[1;33m\u001b[0m\u001b[0m\n\u001b[1;32m--> 112\u001b[1;33m         \u001b[1;32mreturn\u001b[0m \u001b[0m_do_get_request\u001b[0m\u001b[1;33m(\u001b[0m\u001b[0mresource\u001b[0m\u001b[1;33m)\u001b[0m\u001b[1;33m\u001b[0m\u001b[1;33m\u001b[0m\u001b[0m\n\u001b[0m\u001b[0;32m    113\u001b[0m \u001b[1;33m\u001b[0m\u001b[0m\n\u001b[0;32m    114\u001b[0m     \u001b[1;33m@\u001b[0m\u001b[0mclassmethod\u001b[0m\u001b[1;33m\u001b[0m\u001b[1;33m\u001b[0m\u001b[0m\n",
      "\u001b[1;32mc:\\Users\\macie\\anaconda3\\envs\\chess\\lib\\site-packages\\chessdotcom\\client.py\u001b[0m in \u001b[0;36m_do_sync_get_request\u001b[1;34m(cls, resource)\u001b[0m\n\u001b[0;32m     76\u001b[0m             \u001b[1;32mif\u001b[0m \u001b[0mcls\u001b[0m\u001b[1;33m.\u001b[0m\u001b[0mrate_limit_handler\u001b[0m\u001b[1;33m.\u001b[0m\u001b[0mshould_try_again\u001b[0m\u001b[1;33m(\u001b[0m\u001b[0mr\u001b[0m\u001b[1;33m.\u001b[0m\u001b[0mstatus_code\u001b[0m\u001b[1;33m,\u001b[0m \u001b[0mresource\u001b[0m\u001b[1;33m)\u001b[0m\u001b[1;33m:\u001b[0m\u001b[1;33m\u001b[0m\u001b[1;33m\u001b[0m\u001b[0m\n\u001b[0;32m     77\u001b[0m                 \u001b[1;32mreturn\u001b[0m \u001b[0mcls\u001b[0m\u001b[1;33m.\u001b[0m\u001b[0m_do_sync_get_request\u001b[0m\u001b[1;33m(\u001b[0m\u001b[0mresource\u001b[0m\u001b[1;33m)\u001b[0m\u001b[1;33m\u001b[0m\u001b[1;33m\u001b[0m\u001b[0m\n\u001b[1;32m---> 78\u001b[1;33m             raise ChessDotComError(\n\u001b[0m\u001b[0;32m     79\u001b[0m                 \u001b[0mstatus_code\u001b[0m\u001b[1;33m=\u001b[0m\u001b[0mr\u001b[0m\u001b[1;33m.\u001b[0m\u001b[0mstatus_code\u001b[0m\u001b[1;33m,\u001b[0m \u001b[0mresponse_text\u001b[0m\u001b[1;33m=\u001b[0m\u001b[0mr\u001b[0m\u001b[1;33m.\u001b[0m\u001b[0mtext\u001b[0m\u001b[1;33m,\u001b[0m \u001b[0mheaders\u001b[0m\u001b[1;33m=\u001b[0m\u001b[0mr\u001b[0m\u001b[1;33m.\u001b[0m\u001b[0mheaders\u001b[0m\u001b[1;33m\u001b[0m\u001b[1;33m\u001b[0m\u001b[0m\n\u001b[0;32m     80\u001b[0m             )\n",
      "\u001b[1;31mChessDotComError\u001b[0m: <class 'chessdotcom.types.ChessDotComError'>(status_code=404, text={\"code\":0,\"message\":\"Data provider not found for key \\\"/pub/player//games/2022/11\\\".\"})"
     ]
    }
   ],
   "source": [
    "# Pulling GMs latest games from chess.com\n",
    "gm_games = []\n",
    "\n",
    "for player in tqdm(gm_list):\n",
    "    games = get_player_games_by_month(player, year=current_time.year, month=current_time.month-1, tts=random.randint(0,2))\n",
    "    for game in games.json['games']:\n",
    "        try:\n",
    "            pgn = StringIO(game['pgn'])\n",
    "            game = chess.pgn.read_game(pgn)\n",
    "            game_dict = {'White': game.headers['White'], 'Black': game.headers['Black'], 'Result': game.headers['Result'], \\\n",
    "            'White_opening': [str(move)[2:] for move in game.mainline_moves()][0], 'Black_opening': [str(move)[2:] for move in game.mainline_moves()][1]}\n",
    "            gm_games.append(game_dict)\n",
    "        except:\n",
    "            pass\n",
    "        \n",
    "games_df = pd.DataFrame(gm_games)\n",
    "games_df.to_csv(\"GM_games.csv\")"
   ]
  },
  {
   "cell_type": "code",
   "execution_count": 113,
   "metadata": {},
   "outputs": [],
   "source": [
    "games_df = pd.DataFrame(gm_games)\n",
    "games_df.to_csv(\"GM_games.csv\")"
   ]
  }
 ],
 "metadata": {
  "kernelspec": {
   "display_name": "Python 3.8.13 ('chess')",
   "language": "python",
   "name": "python3"
  },
  "language_info": {
   "codemirror_mode": {
    "name": "ipython",
    "version": 3
   },
   "file_extension": ".py",
   "mimetype": "text/x-python",
   "name": "python",
   "nbconvert_exporter": "python",
   "pygments_lexer": "ipython3",
   "version": "3.8.13 (default, Oct 19 2022, 22:38:03) [MSC v.1916 64 bit (AMD64)]"
  },
  "orig_nbformat": 4,
  "vscode": {
   "interpreter": {
    "hash": "e22f3cd4f47b9f2d986bebc8660c929fc3fec1ecde06d5e3a5c9dbb422723ce2"
   }
  }
 },
 "nbformat": 4,
 "nbformat_minor": 2
}
