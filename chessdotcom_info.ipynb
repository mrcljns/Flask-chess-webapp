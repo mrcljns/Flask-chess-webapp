{
 "cells": [
  {
   "cell_type": "markdown",
   "metadata": {},
   "source": [
    "# Creating dataframes from chess.com"
   ]
  },
  {
   "cell_type": "code",
   "execution_count": 1,
   "metadata": {},
   "outputs": [],
   "source": [
    "from chessdotcom import get_titled_players, get_player_profile, get_player_stats, get_player_games_by_month\n",
    "import pandas as pd\n",
    "from tqdm import tqdm\n",
    "import datetime\n",
    "import chess.pgn\n",
    "from io import StringIO\n",
    "import random"
   ]
  },
  {
   "cell_type": "markdown",
   "metadata": {},
   "source": [
    "## Loading information about Grandmasters"
   ]
  },
  {
   "cell_type": "code",
   "execution_count": 2,
   "metadata": {},
   "outputs": [
    {
     "name": "stdout",
     "output_type": "stream",
     "text": [
      "['123lt', '124chess', '1977ivan', '1stsecond', '4thd-alpeacefulmoon', '64aramis64', '64arthos64', '64atilla64', '64dartagnan64', '64genghis64']\n"
     ]
    }
   ],
   "source": [
    "# Names of all chess.com accounts belonging to chess grandmasters\n",
    "gm_list = get_titled_players('GM')\n",
    "print(gm_list.players[:10])"
   ]
  },
  {
   "cell_type": "code",
   "execution_count": 4,
   "metadata": {},
   "outputs": [],
   "source": [
    "with open('data/gm_list.txt', 'w+') as f:\n",
    "    for gm in gm_list.players:\n",
    "        f.write(f\"{gm}\\n\")"
   ]
  },
  {
   "cell_type": "code",
   "execution_count": 2,
   "metadata": {},
   "outputs": [],
   "source": [
    "file = open('data/gm_list.txt', 'r')\n",
    "gm_list = file.read()\n",
    "gm_list = gm_list.split(\"\\n\")\n",
    "file.close()"
   ]
  },
  {
   "cell_type": "markdown",
   "metadata": {},
   "source": [
    "### Player profiles"
   ]
  },
  {
   "cell_type": "code",
   "execution_count": 6,
   "metadata": {},
   "outputs": [],
   "source": [
    "# Pulling GMs profiles from chess.com\n",
    "gm_profiles = []\n",
    "\n",
    "for player in gm_list.players:\n",
    "    gm_profiles.append(get_player_profile(player).json['player'])"
   ]
  },
  {
   "cell_type": "code",
   "execution_count": 7,
   "metadata": {},
   "outputs": [],
   "source": [
    "# Change into pandas dataframe\n",
    "profiles_df = pd.DataFrame(gm_profiles)"
   ]
  },
  {
   "cell_type": "code",
   "execution_count": 10,
   "metadata": {},
   "outputs": [],
   "source": [
    "# Save the dataframe into csv\n",
    "profiles_df.to_csv(\"GM_profiles.csv\")"
   ]
  },
  {
   "cell_type": "markdown",
   "metadata": {},
   "source": [
    "### Player stats"
   ]
  },
  {
   "cell_type": "code",
   "execution_count": 5,
   "metadata": {},
   "outputs": [
    {
     "name": "stderr",
     "output_type": "stream",
     "text": [
      "100%|██████████| 1466/1466 [1:09:10<00:00,  2.83s/it]\n"
     ]
    }
   ],
   "source": [
    "# Pulling GMs stats from chess.com\n",
    "gm_stats = []\n",
    "\n",
    "for player in tqdm(gm_list.players):\n",
    "    temp_stat = get_player_stats(player, tts=2).json['stats']\n",
    "    temp_stat['player'] = player\n",
    "    gm_stats.append(temp_stat)\n",
    "\n",
    "stats_df = pd.DataFrame(pd.json_normalize(gm_stats))\n",
    "stats_df.to_csv(\"GM_stats.csv\")"
   ]
  },
  {
   "cell_type": "markdown",
   "metadata": {},
   "source": [
    "### Latest player games"
   ]
  },
  {
   "cell_type": "code",
   "execution_count": 3,
   "metadata": {},
   "outputs": [],
   "source": [
    "current_time = datetime.datetime.now()"
   ]
  },
  {
   "cell_type": "code",
   "execution_count": 17,
   "metadata": {},
   "outputs": [
    {
     "name": "stderr",
     "output_type": "stream",
     "text": [
      "100%|██████████| 1467/1467 [41:33<00:00,  1.70s/it] \n"
     ]
    }
   ],
   "source": [
    "# Pulling GMs latest games from chess.com\n",
    "gm_games = []\n",
    "\n",
    "for player in tqdm(gm_list):\n",
    "    try:\n",
    "        games = get_player_games_by_month(player, year=2022, month=12, tts=random.randint(0,2))\n",
    "        for game in games.json['games']:\n",
    "            try:\n",
    "                pgn = StringIO(game['pgn'])\n",
    "                game = chess.pgn.read_game(pgn)\n",
    "                game_dict = {'White': game.headers['White'], 'Black': game.headers['Black'], 'Result': game.headers['Result'], \\\n",
    "                'Opening': game.headers['ECO']}\n",
    "                gm_games.append(game_dict)\n",
    "            except:\n",
    "                pass\n",
    "    except:\n",
    "        pass\n",
    "\n",
    "games_df = pd.DataFrame(gm_games)\n",
    "games_df.to_csv(\"data/GM_games.csv\")"
   ]
  }
 ],
 "metadata": {
  "kernelspec": {
   "display_name": "Python 3.8.13 ('chess')",
   "language": "python",
   "name": "python3"
  },
  "language_info": {
   "codemirror_mode": {
    "name": "ipython",
    "version": 3
   },
   "file_extension": ".py",
   "mimetype": "text/x-python",
   "name": "python",
   "nbconvert_exporter": "python",
   "pygments_lexer": "ipython3",
   "version": "3.8.13 (default, Oct 19 2022, 22:38:03) [MSC v.1916 64 bit (AMD64)]"
  },
  "orig_nbformat": 4,
  "vscode": {
   "interpreter": {
    "hash": "e22f3cd4f47b9f2d986bebc8660c929fc3fec1ecde06d5e3a5c9dbb422723ce2"
   }
  }
 },
 "nbformat": 4,
 "nbformat_minor": 2
}
